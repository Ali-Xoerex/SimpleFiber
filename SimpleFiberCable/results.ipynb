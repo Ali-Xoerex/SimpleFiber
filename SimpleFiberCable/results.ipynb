{
 "cells": [
  {
   "cell_type": "markdown",
   "id": "f70c9f01",
   "metadata": {},
   "source": [
    "# A very simple Fiber Optics Cable simulation with Ansys HFSS\n",
    "A Fiber Optics Cable essentially consists of two parts : **Core and Cladding**. The core is usually made of a material that has a higher relative permittivity than the cladding. The reason for this is the phenomenon known as **Total Reflection**, in which the incident wave on a surface is reflected totally and none goes through. This is particularly useful when building cables since we want most of our signal to be travelling inside the core. **Cladding** serves the purpose of keeping external fields off the core, isolating it from the environment and **Coating** is used for protecting the cable from the environment and it's hazards.\n",
    "![Fiber Optics Cable](https://www.networkacademy.io/sites/default/files/inline-images/Fiber%20Optic%20Cable%20Components.png)\n",
    "# Optical Communication Frequency band\n",
    "The frequency of the modulated wave which travels through the fiber is in the optical band which is usually in the few-terahertz region. one of the most popular options is 1.55 micrometer wave whose frequency is roughly 200 THz. For the sake of simplicity and hardware restrictions, I have chosen a single point frequency solver with 10THz as the only point.\n",
    "# Simulation\n",
    "Our geometry consists of 4 parts :\n",
    "* The radiation box as the boundary condition\n",
    "* The core whose material is chosen to be glass with the relative permitivity 5.5\n",
    "* The cladding whose material is chosen to be polyester with relative permitivity 3.2\n",
    "* The environment which is basically air modeled as a cube and stuck to one of the ends of the cable\n",
    "![Geometry](imgs/geometry.JPG)\n",
    "And for the excitation, I applied an incident wave to the outter face of the cube, representing air. The wave is perpendicular to the surface of the cable, therefore we expect the wave to propagate through the fiber in the same manner, which we indeed see as the result, if we plot the Poiynting Vector :\n",
    "![Poynting](imgs/poynting.JPG)\n",
    "As we can see, the majority of the signal is travelling in the +z direction and the scattered vectors have so low amplitude that they're negligible.\n",
    "Now we wish to see how the electrical field is propagating through the structure. Before we get to the result, we have to ask ourself : \"What do I expect?\". Well, the electrical field has been defined to be polarized in the +x direction. Since the refractive index or relative permitivity of the air is lower than that of The Core, **Reflection Coefficient** will be negative, therefore we expect that near the surface between air and the core, the scattered waves or reflected waves will be polarized in -x direction, which is what happened in the simulation, too:\n",
    "![Reflection](imgs/reflect.JPG)\n",
    "But we also expect, that since the **Transmission coefficient** is always positive for perpendicular incidence, the electrical field inside the core at the surface will still be positively polarized :\n",
    "![Transmission](imgs/transmit.JPG)\n",
    "We can also confirm another assumption we made in the beginning. We stated that one of the reasons for employing cladding is to minimize the external fields from interfering with the core and also keeping the wave propagating in the core to stay there and minimize leakage.\n",
    "![Leakage](imgs/clad.JPG)\n",
    "The figure above, shows us, that when we plot the magnitude of electrical field both inside the core and the cladding, we can clearly see that the magnitude of electrical field is higher inside the core than in the cladding, which confirms our hypothesis stated above."
   ]
  }
 ],
 "metadata": {
  "kernelspec": {
   "display_name": "Python 3 (ipykernel)",
   "language": "python",
   "name": "python3"
  },
  "language_info": {
   "codemirror_mode": {
    "name": "ipython",
    "version": 3
   },
   "file_extension": ".py",
   "mimetype": "text/x-python",
   "name": "python",
   "nbconvert_exporter": "python",
   "pygments_lexer": "ipython3",
   "version": "3.9.7"
  }
 },
 "nbformat": 4,
 "nbformat_minor": 5
}
